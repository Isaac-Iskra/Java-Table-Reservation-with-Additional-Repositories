{
  "nbformat": 4,
  "nbformat_minor": 0,
  "metadata": {
    "colab": {
      "provenance": []
    },
    "kernelspec": {
      "name": "python3",
      "display_name": "Python 3"
    },
    "language_info": {
      "name": "python"
    }
  },
  "cells": [
    {
      "cell_type": "code",
      "execution_count": null,
      "metadata": {
        "id": "1KMFMMqAQEcM"
      },
      "outputs": [],
      "source": [
        "public interface AdditionalRepository {\n",
        "    List<Reservation> getReservationsForDate(LocalDate date);\n",
        "}\n"
      ]
    },
    {
      "cell_type": "markdown",
      "source": [
        "This interface defines a method for retrieving reservations for a specific date.\n",
        "\n",
        "Next, let's create an implementation of the interface:"
      ],
      "metadata": {
        "id": "V0DwPBGhQJjW"
      }
    },
    {
      "cell_type": "code",
      "source": [
        "public class AdditionalRepositoryImpl implements AdditionalRepository {\n",
        "    private List<Reservation> reservations = new ArrayList<>();\n",
        "\n",
        "    @Override\n",
        "    public List<Reservation> getReservationsForDate(LocalDate date) {\n",
        "        List<Reservation> reservationsForDate = new ArrayList<>();\n",
        "        for (Reservation reservation : reservations) {\n",
        "            if (reservation.getDate().equals(date)) {\n",
        "                reservationsForDate.add(reservation);\n",
        "            }\n",
        "        }\n",
        "        return reservationsForDate;\n",
        "    }\n",
        "}\n"
      ],
      "metadata": {
        "id": "FfIcgew9QM42"
      },
      "execution_count": null,
      "outputs": []
    },
    {
      "cell_type": "markdown",
      "source": [
        "This implementation uses an ArrayList to store reservations, and provides an implementation for the getReservationsForDate() method that iterates through the reservations and returns the ones that match the given date.\n",
        "\n",
        "Next, let's create a new entity object that interacts with this repository:"
      ],
      "metadata": {
        "id": "76gzbSCuQPUs"
      }
    },
    {
      "cell_type": "code",
      "source": [
        "public class AdditionalEntity {\n",
        "    private AdditionalRepository repository;\n",
        "\n",
        "    public AdditionalEntity(AdditionalRepository repository) {\n",
        "        this.repository = repository;\n",
        "    }\n",
        "\n",
        "    public List<Reservation> getReservationsForDate(LocalDate date) {\n",
        "        return repository.getReservationsForDate(date);\n",
        "    }\n",
        "}\n"
      ],
      "metadata": {
        "id": "r1xSPnTTQSqy"
      },
      "execution_count": null,
      "outputs": []
    },
    {
      "cell_type": "markdown",
      "source": [
        "This entity object takes an instance of the AdditionalRepository interface in its constructor, and provides a method for retrieving reservations for a specific date using the getReservationsForDate() method.\n",
        "\n",
        "Finally, let's modify the existing Reservation entity to include the new method:"
      ],
      "metadata": {
        "id": "G36yyy5uQU-t"
      }
    },
    {
      "cell_type": "code",
      "source": [
        "public class Reservation {\n",
        "    private int id;\n",
        "    private LocalDate date;\n",
        "    private int tableNumber;\n",
        "    private String customerName;\n",
        "\n",
        "    // constructor, getters, setters, etc.\n",
        "\n",
        "    public static List<Reservation> getReservationsForDate(AdditionalRepository repository, LocalDate date) {\n",
        "        return new AdditionalEntity(repository).getReservationsForDate(date);\n",
        "    }\n",
        "}\n"
      ],
      "metadata": {
        "id": "8LCV1KBoQX0u"
      },
      "execution_count": null,
      "outputs": []
    },
    {
      "cell_type": "markdown",
      "source": [
        "This static method on the Reservation entity takes an instance of the AdditionalRepository interface and a date as input, and uses the AdditionalEntity object to retrieve reservations for the given date using the getReservationsForDate() method.\n",
        "\n",
        "With these changes, the existing table reservation project now has the ability to retrieve reservations for a specific date using the getReservationsForDate() method on the Reservation entity."
      ],
      "metadata": {
        "id": "d0-9_WyKQcaX"
      }
    }
  ]
}